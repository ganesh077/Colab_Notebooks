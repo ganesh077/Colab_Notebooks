{
  "nbformat": 4,
  "nbformat_minor": 0,
  "metadata": {
    "colab": {
      "provenance": [],
      "toc_visible": true,
      "include_colab_link": true
    },
    "kernelspec": {
      "name": "python3",
      "display_name": "Python 3"
    },
    "language_info": {
      "name": "python"
    }
  },
  "cells": [
    {
      "cell_type": "markdown",
      "metadata": {
        "id": "view-in-github",
        "colab_type": "text"
      },
      "source": [
        "<a href=\"https://colab.research.google.com/github/ganesh077/Colab_Notebooks/blob/main/SQL_Session_1.ipynb\" target=\"_parent\"><img src=\"https://colab.research.google.com/assets/colab-badge.svg\" alt=\"Open In Colab\"/></a>"
      ]
    },
    {
      "cell_type": "markdown",
      "source": [
        "#Introduction to SQL\n",
        "## What is SQL\n",
        "\n",
        "1.   SQL stands for Structured Query Language.\n",
        "2.   It is used to communicate with databases.\n",
        "3.   SQL is used for querying, updating, and managing data.\n",
        "\n",
        "\n",
        "\n",
        "\n",
        "\n",
        "\n",
        "\n",
        "\n"
      ],
      "metadata": {
        "id": "N5x9jgpGLWgN"
      }
    },
    {
      "cell_type": "markdown",
      "source": [
        "#Coding Setup\n",
        "## Database Engine- SQLite3\n",
        "## Database Name - dummy_database\n",
        "## Tables -\n",
        "\n",
        "1.   employees (employee_id, first_name, last_name, age, department_id)\n",
        "2.   departments (department_id, department_name)\n",
        "3.   sales (sale_id, employee_id, amount, sale_date)\n",
        "\n",
        "## How to run queries? -\n",
        "\n",
        "\n",
        "```\n",
        "query = '''your query'''\n",
        "pprint(query,conn)\n",
        "```\n",
        "\n",
        "\n",
        "\n"
      ],
      "metadata": {
        "id": "67SfTc1GjNsy"
      }
    },
    {
      "cell_type": "code",
      "source": [
        "import sqlite3\n",
        "\n",
        "# Create a connection to the SQLite database\n",
        "conn = sqlite3.connect('dummy_database.db')\n",
        "cursor = conn.cursor()\n",
        "\n",
        "# Execute multiple SQL statements to create tables and insert data\n",
        "cursor.executescript('''\n",
        "    DROP TABLE IF EXISTS employees;\n",
        "    DROP TABLE IF EXISTS departments;\n",
        "    DROP TABLE IF EXISTS sales;\n",
        "\n",
        "    CREATE TABLE employees (\n",
        "        employee_id INTEGER PRIMARY KEY,\n",
        "        first_name TEXT NOT NULL,\n",
        "        last_name TEXT NOT NULL,\n",
        "        age INTEGER,\n",
        "        department_id INTEGER,\n",
        "        FOREIGN KEY (department_id) REFERENCES departments(department_id)\n",
        "    );\n",
        "\n",
        "    CREATE TABLE departments (\n",
        "        department_id INTEGER PRIMARY KEY,\n",
        "        department_name TEXT NOT NULL\n",
        "    );\n",
        "\n",
        "    CREATE TABLE sales (\n",
        "        sale_id INTEGER PRIMARY KEY,\n",
        "        employee_id INTEGER,\n",
        "        amount REAL,\n",
        "        sale_date TEXT,\n",
        "        FOREIGN KEY(employee_id) REFERENCES employees(employee_id)\n",
        "    );\n",
        "\n",
        "    INSERT INTO employees (first_name, last_name, age, department_id)\n",
        "    VALUES\n",
        "    ('Ganesh', 'Doe', 30, 1),\n",
        "    ('Jane', 'Smith', 25, 2),\n",
        "    ('Emily', 'Johnson', 35, 1),\n",
        "    ('Michael', 'Brown', 40, 3),\n",
        "    ('Ash', 'Ketchup', 40, 4);\n",
        "\n",
        "    INSERT INTO departments (department_name)\n",
        "    VALUES\n",
        "    ('HR'),\n",
        "    ('Engineering'),\n",
        "    ('Sales');\n",
        "\n",
        "    INSERT INTO sales (employee_id, amount, sale_date)\n",
        "    VALUES\n",
        "    (1, 500.0, '2023-01-01'),\n",
        "    (2, 1500.0, '2023-01-03'),\n",
        "    (1, 700.0, '2023-01-05'),\n",
        "    (3, 1200.0, '2023-01-07');\n",
        "''')\n",
        "\n",
        "# Commit changes\n",
        "conn.commit()\n",
        "\n",
        "print(\"Dummy database created successfully!\")\n",
        "\n",
        "import pandas as pd\n",
        "from tabulate import tabulate\n",
        "\n",
        "def pprint(query,conn):\n",
        "    dframe = pd.read_sql_query(query,conn)\n",
        "    print(tabulate(dframe, headers='keys', tablefmt='fancy_grid', showindex=False))"
      ],
      "metadata": {
        "colab": {
          "base_uri": "https://localhost:8080/"
        },
        "id": "qJanoh-KjX19",
        "outputId": "e39aa86e-af84-4952-b2ed-2d88e333f6f2"
      },
      "execution_count": 12,
      "outputs": [
        {
          "output_type": "stream",
          "name": "stdout",
          "text": [
            "Dummy database created successfully!\n"
          ]
        }
      ]
    },
    {
      "cell_type": "code",
      "source": [
        "query = '''select * from departments'''\n",
        "print(\"Departments:\")\n",
        "pprint(query,conn)\n",
        "query = '''select * from employees'''\n",
        "print(\"Employees:\")\n",
        "pprint(query,conn)\n",
        "print(\"Sales:\")\n",
        "query = '''select * from sales'''\n",
        "pprint(query,conn)\n"
      ],
      "metadata": {
        "colab": {
          "base_uri": "https://localhost:8080/"
        },
        "id": "TG0PA2Oh7ksU",
        "outputId": "51c64c75-5e19-4c2a-ae3f-e8b13eb28487"
      },
      "execution_count": 13,
      "outputs": [
        {
          "output_type": "stream",
          "name": "stdout",
          "text": [
            "Departments:\n",
            "╒═════════════════╤═══════════════════╕\n",
            "│   department_id │ department_name   │\n",
            "╞═════════════════╪═══════════════════╡\n",
            "│               1 │ HR                │\n",
            "├─────────────────┼───────────────────┤\n",
            "│               2 │ Engineering       │\n",
            "├─────────────────┼───────────────────┤\n",
            "│               3 │ Sales             │\n",
            "╘═════════════════╧═══════════════════╛\n",
            "Employees:\n",
            "╒═══════════════╤══════════════╤═════════════╤═══════╤═════════════════╕\n",
            "│   employee_id │ first_name   │ last_name   │   age │   department_id │\n",
            "╞═══════════════╪══════════════╪═════════════╪═══════╪═════════════════╡\n",
            "│             1 │ Ganesh       │ Doe         │    30 │               1 │\n",
            "├───────────────┼──────────────┼─────────────┼───────┼─────────────────┤\n",
            "│             2 │ Jane         │ Smith       │    25 │               2 │\n",
            "├───────────────┼──────────────┼─────────────┼───────┼─────────────────┤\n",
            "│             3 │ Emily        │ Johnson     │    35 │               1 │\n",
            "├───────────────┼──────────────┼─────────────┼───────┼─────────────────┤\n",
            "│             4 │ Michael      │ Brown       │    40 │               3 │\n",
            "├───────────────┼──────────────┼─────────────┼───────┼─────────────────┤\n",
            "│             5 │ Ash          │ Ketchup     │    40 │               4 │\n",
            "╘═══════════════╧══════════════╧═════════════╧═══════╧═════════════════╛\n",
            "Sales:\n",
            "╒═══════════╤═══════════════╤══════════╤═════════════╕\n",
            "│   sale_id │   employee_id │   amount │ sale_date   │\n",
            "╞═══════════╪═══════════════╪══════════╪═════════════╡\n",
            "│         1 │             1 │      500 │ 2023-01-01  │\n",
            "├───────────┼───────────────┼──────────┼─────────────┤\n",
            "│         2 │             2 │     1500 │ 2023-01-03  │\n",
            "├───────────┼───────────────┼──────────┼─────────────┤\n",
            "│         3 │             1 │      700 │ 2023-01-05  │\n",
            "├───────────┼───────────────┼──────────┼─────────────┤\n",
            "│         4 │             3 │     1200 │ 2023-01-07  │\n",
            "╘═══════════╧═══════════════╧══════════╧═════════════╛\n"
          ]
        }
      ]
    },
    {
      "cell_type": "markdown",
      "source": [
        "# Basic SQL Commands\n",
        "\n",
        "\n",
        "\n",
        "\n"
      ],
      "metadata": {
        "id": "R-fnJMmJiA-S"
      }
    },
    {
      "cell_type": "markdown",
      "source": [
        "## SELECT and FROM\n",
        "\n",
        "**SELECT**: Used to select data from a database.\n",
        "*   Syntax: SELECT column1, column2, ... FROM table_name;\n",
        "*   Example:\n",
        "\n",
        "\n",
        "```\n",
        "SELECT first_name, last_name FROM employees;\n",
        "```\n",
        "**FROM**: Specifies the table from which to retrieve the data."
      ],
      "metadata": {
        "id": "DTs6M6Sbn7wV"
      }
    },
    {
      "cell_type": "code",
      "source": [
        "query = '''\n",
        "SELECT first_name, last_name FROM employees\n",
        "'''\n",
        "pprint(query,conn)"
      ],
      "metadata": {
        "colab": {
          "base_uri": "https://localhost:8080/"
        },
        "id": "XplTf6gPMMKE",
        "outputId": "454f0bbb-e105-4e85-c4a8-8f371f6e6f36"
      },
      "execution_count": 14,
      "outputs": [
        {
          "output_type": "stream",
          "name": "stdout",
          "text": [
            "╒══════════════╤═════════════╕\n",
            "│ first_name   │ last_name   │\n",
            "╞══════════════╪═════════════╡\n",
            "│ Ganesh       │ Doe         │\n",
            "├──────────────┼─────────────┤\n",
            "│ Jane         │ Smith       │\n",
            "├──────────────┼─────────────┤\n",
            "│ Emily        │ Johnson     │\n",
            "├──────────────┼─────────────┤\n",
            "│ Michael      │ Brown       │\n",
            "├──────────────┼─────────────┤\n",
            "│ Ash          │ Ketchup     │\n",
            "╘══════════════╧═════════════╛\n"
          ]
        }
      ]
    },
    {
      "cell_type": "code",
      "source": [
        "# Activity - 1\n",
        "# Write a simple query to select sale_id, amount columns from a sales table.\n",
        "\n",
        "query = '''\n",
        "SELECT * from sales\n",
        "'''\n",
        "pprint(query,conn)\n",
        "\n",
        "\n",
        "\n",
        "\n",
        "\n",
        "\n",
        "\n",
        "\n"
      ],
      "metadata": {
        "id": "LqKTLgSYolUs",
        "colab": {
          "base_uri": "https://localhost:8080/"
        },
        "outputId": "65695c73-6841-4f98-edb6-856d03ed03bb"
      },
      "execution_count": 15,
      "outputs": [
        {
          "output_type": "stream",
          "name": "stdout",
          "text": [
            "╒═══════════╤═══════════════╤══════════╤═════════════╕\n",
            "│   sale_id │   employee_id │   amount │ sale_date   │\n",
            "╞═══════════╪═══════════════╪══════════╪═════════════╡\n",
            "│         1 │             1 │      500 │ 2023-01-01  │\n",
            "├───────────┼───────────────┼──────────┼─────────────┤\n",
            "│         2 │             2 │     1500 │ 2023-01-03  │\n",
            "├───────────┼───────────────┼──────────┼─────────────┤\n",
            "│         3 │             1 │      700 │ 2023-01-05  │\n",
            "├───────────┼───────────────┼──────────┼─────────────┤\n",
            "│         4 │             3 │     1200 │ 2023-01-07  │\n",
            "╘═══════════╧═══════════════╧══════════╧═════════════╛\n"
          ]
        }
      ]
    },
    {
      "cell_type": "markdown",
      "source": [
        "## WHERE\n",
        "\n",
        "**WHERE**: Filters records.\n",
        "*   Syntax: SELECT column1, column2, ... FROM table_name WHERE condition;\n",
        "*   Example:\n",
        "\n",
        "\n",
        "```\n",
        "SELECT * FROM employees WHERE age > 30;\n",
        "```"
      ],
      "metadata": {
        "id": "79vFAYWenpyF"
      }
    },
    {
      "cell_type": "code",
      "source": [
        "query = '''\n",
        "SELECT * FROM employees WHERE age > 30;\n",
        "'''\n",
        "pprint(query,conn)"
      ],
      "metadata": {
        "colab": {
          "base_uri": "https://localhost:8080/"
        },
        "id": "wzCLfpU8qIML",
        "outputId": "5ecf4d53-b3f9-442e-9b09-ed868e806a39"
      },
      "execution_count": 16,
      "outputs": [
        {
          "output_type": "stream",
          "name": "stdout",
          "text": [
            "╒═══════════════╤══════════════╤═════════════╤═══════╤═════════════════╕\n",
            "│   employee_id │ first_name   │ last_name   │   age │   department_id │\n",
            "╞═══════════════╪══════════════╪═════════════╪═══════╪═════════════════╡\n",
            "│             3 │ Emily        │ Johnson     │    35 │               1 │\n",
            "├───────────────┼──────────────┼─────────────┼───────┼─────────────────┤\n",
            "│             4 │ Michael      │ Brown       │    40 │               3 │\n",
            "├───────────────┼──────────────┼─────────────┼───────┼─────────────────┤\n",
            "│             5 │ Ash          │ Ketchup     │    40 │               4 │\n",
            "╘═══════════════╧══════════════╧═════════════╧═══════╧═════════════════╛\n"
          ]
        }
      ]
    },
    {
      "cell_type": "code",
      "source": [
        "# Activity 2 -\n",
        "# Write a query to filter data where department_name = 'HR' from the departments table.\n",
        "\n",
        "\n",
        "query = '''\n",
        "SELECT * FROM departments WHERE department_name = 'HR';\n",
        "'''\n",
        "pprint(query,conn)\n",
        "\n",
        "\n"
      ],
      "metadata": {
        "id": "jGlQfvJ9pUhp",
        "colab": {
          "base_uri": "https://localhost:8080/"
        },
        "outputId": "024af92a-5e8f-4924-b0d4-ceff0c27b38a"
      },
      "execution_count": 17,
      "outputs": [
        {
          "output_type": "stream",
          "name": "stdout",
          "text": [
            "╒═════════════════╤═══════════════════╕\n",
            "│   department_id │ department_name   │\n",
            "╞═════════════════╪═══════════════════╡\n",
            "│               1 │ HR                │\n",
            "╘═════════════════╧═══════════════════╛\n"
          ]
        }
      ]
    },
    {
      "cell_type": "markdown",
      "source": [
        "## GROUP BY and HAVING\n",
        "\n",
        "**GROUP BY**: Groups rows that have the same values.\n",
        "*   Syntax: SELECT column1, COUNT(*) FROM table_name GROUP BY column1;\n",
        "*   Example:\n",
        "\n",
        "```\n",
        "SELECT department_id, COUNT(*) FROM employees GROUP BY department_id;\n",
        "```\n",
        "**Having**: Filters groups.\n",
        "*   Syntax: SELECT column1, COUNT(\\*) FROM table_name GROUP BY column1 having COUNT(\\*) > 5;\n",
        "*   Example:\n",
        "\n",
        "```\n",
        "SELECT department_id, COUNT(*) FROM employees GROUP BY department HAVING COUNT(*) > 1;\n",
        "```"
      ],
      "metadata": {
        "id": "vh6PPP2irFNs"
      }
    },
    {
      "cell_type": "code",
      "source": [
        "query = '''\n",
        "SELECT department_id, COUNT(*) FROM employees GROUP BY department_id HAVING COUNT(*) > 1;\n",
        "'''\n",
        "pprint(query,conn)\n",
        "# query = '''\n",
        "# SELECT department_id, avg(*) FROM employees GROUP BY department_id\n",
        "# '''\n",
        "# pprint(query,conn)\n"
      ],
      "metadata": {
        "colab": {
          "base_uri": "https://localhost:8080/"
        },
        "id": "-xjFnDXQuTg_",
        "outputId": "666eac7c-2505-449f-dc22-08e4bbf8f2bc"
      },
      "execution_count": 18,
      "outputs": [
        {
          "output_type": "stream",
          "name": "stdout",
          "text": [
            "╒═════════════════╤════════════╕\n",
            "│   department_id │   COUNT(*) │\n",
            "╞═════════════════╪════════════╡\n",
            "│               1 │          2 │\n",
            "╘═════════════════╧════════════╛\n"
          ]
        }
      ]
    },
    {
      "cell_type": "code",
      "source": [
        "# Activity - 3\n",
        "# Write a query to group employees and filter groups by employees who made more than 1 sale in sales table.\n",
        "\n",
        "query = '''\n",
        "SELECT * from sales;\n",
        "'''\n",
        "pprint(query,conn)\n",
        "\n",
        "\n",
        "query = '''\n",
        "SELECT employee_id , COUNT(*) FROM sales GROUP BY employee_id  HAVING COUNT(*) > 1;\n",
        "'''\n",
        "pprint(query,conn)\n",
        "\n",
        "\n",
        "\n",
        "\n",
        "\n"
      ],
      "metadata": {
        "id": "m64kGn812VUJ",
        "colab": {
          "base_uri": "https://localhost:8080/"
        },
        "outputId": "754c922f-6e66-48cf-e0a0-8e565eeba9d3"
      },
      "execution_count": 19,
      "outputs": [
        {
          "output_type": "stream",
          "name": "stdout",
          "text": [
            "╒═══════════╤═══════════════╤══════════╤═════════════╕\n",
            "│   sale_id │   employee_id │   amount │ sale_date   │\n",
            "╞═══════════╪═══════════════╪══════════╪═════════════╡\n",
            "│         1 │             1 │      500 │ 2023-01-01  │\n",
            "├───────────┼───────────────┼──────────┼─────────────┤\n",
            "│         2 │             2 │     1500 │ 2023-01-03  │\n",
            "├───────────┼───────────────┼──────────┼─────────────┤\n",
            "│         3 │             1 │      700 │ 2023-01-05  │\n",
            "├───────────┼───────────────┼──────────┼─────────────┤\n",
            "│         4 │             3 │     1200 │ 2023-01-07  │\n",
            "╘═══════════╧═══════════════╧══════════╧═════════════╛\n",
            "╒═══════════════╤════════════╕\n",
            "│   employee_id │   COUNT(*) │\n",
            "╞═══════════════╪════════════╡\n",
            "│             1 │          2 │\n",
            "╘═══════════════╧════════════╛\n"
          ]
        }
      ]
    },
    {
      "cell_type": "markdown",
      "source": [
        "## JOINS\n",
        "\n",
        "**INNER JOIN**: Returns records with matching values in both tables.\n",
        "*   SELECT columns FROM table1 INNER JOIN table2 ON table1.column = table2.column;\n",
        "*   Example:\n",
        "\n",
        "```\n",
        "SELECT employees.first_name, departments.department_name\n",
        "FROM employees\n",
        "INNER JOIN departments ON employees.department_id = departments.department_id;\n",
        "```\n",
        "**LEFT JOIN**: Returns all records from the left table and matched records from the right table.\n",
        "\n",
        "*   SELECT columns FROM table1 LEFT JOIN table2 ON table1.column = table2.column;\n",
        "*   Example:\n",
        "\n",
        "```\n",
        "SELECT employees.first_name, departments.department_name\n",
        "FROM employees\n",
        "INNER JOIN departments ON employees.department_id = departments.department_id;\n",
        "```"
      ],
      "metadata": {
        "id": "7nouBqmF1XII"
      }
    },
    {
      "cell_type": "code",
      "source": [
        "query = '''\n",
        "SELECT d.first_name, e.department_name\n",
        "FROM departments e\n",
        "left JOIN employees d ON e.department_id = d.department_id;\n",
        "'''\n",
        "pprint(query,conn)"
      ],
      "metadata": {
        "colab": {
          "base_uri": "https://localhost:8080/"
        },
        "id": "Gl_7c8bJ1xT1",
        "outputId": "d7e0d794-7531-4f2a-f8e2-f36f6708bb7e"
      },
      "execution_count": 20,
      "outputs": [
        {
          "output_type": "stream",
          "name": "stdout",
          "text": [
            "╒══════════════╤═══════════════════╕\n",
            "│ first_name   │ department_name   │\n",
            "╞══════════════╪═══════════════════╡\n",
            "│ Emily        │ HR                │\n",
            "├──────────────┼───────────────────┤\n",
            "│ Ganesh       │ HR                │\n",
            "├──────────────┼───────────────────┤\n",
            "│ Jane         │ Engineering       │\n",
            "├──────────────┼───────────────────┤\n",
            "│ Michael      │ Sales             │\n",
            "╘══════════════╧═══════════════════╛\n"
          ]
        }
      ]
    },
    {
      "cell_type": "code",
      "source": [
        "# Activity - 4\n",
        "# Write a query to join sales table and employees table.\n",
        "\n",
        "query = '''\n",
        "SELECT *\n",
        "FROM sales s\n",
        "JOIN employees e ON s.employee_id = e.employee_id;\n",
        "'''\n",
        "pprint(query,conn)\n",
        "\n",
        "\n",
        "\n"
      ],
      "metadata": {
        "id": "IP_IgD9c22LC",
        "colab": {
          "base_uri": "https://localhost:8080/"
        },
        "outputId": "4dde4cbc-166c-40bc-c0c2-b69acc4b8c78"
      },
      "execution_count": 21,
      "outputs": [
        {
          "output_type": "stream",
          "name": "stdout",
          "text": [
            "╒═══════════╤═══════════════╤══════════╤═════════════╤═══════════════╤══════════════╤═════════════╤═══════╤═════════════════╕\n",
            "│   sale_id │   employee_id │   amount │ sale_date   │   employee_id │ first_name   │ last_name   │   age │   department_id │\n",
            "╞═══════════╪═══════════════╪══════════╪═════════════╪═══════════════╪══════════════╪═════════════╪═══════╪═════════════════╡\n",
            "│         1 │             1 │      500 │ 2023-01-01  │             1 │ Ganesh       │ Doe         │    30 │               1 │\n",
            "├───────────┼───────────────┼──────────┼─────────────┼───────────────┼──────────────┼─────────────┼───────┼─────────────────┤\n",
            "│         2 │             2 │     1500 │ 2023-01-03  │             2 │ Jane         │ Smith       │    25 │               2 │\n",
            "├───────────┼───────────────┼──────────┼─────────────┼───────────────┼──────────────┼─────────────┼───────┼─────────────────┤\n",
            "│         3 │             1 │      700 │ 2023-01-05  │             1 │ Ganesh       │ Doe         │    30 │               1 │\n",
            "├───────────┼───────────────┼──────────┼─────────────┼───────────────┼──────────────┼─────────────┼───────┼─────────────────┤\n",
            "│         4 │             3 │     1200 │ 2023-01-07  │             3 │ Emily        │ Johnson     │    35 │               1 │\n",
            "╘═══════════╧═══════════════╧══════════╧═════════════╧═══════════════╧══════════════╧═════════════╧═══════╧═════════════════╛\n"
          ]
        }
      ]
    },
    {
      "cell_type": "markdown",
      "source": [
        "## ORDER BY\n",
        "\n",
        "**ORDER BY**: Allows you to sort the results of a query based on one or more columns.\n",
        "*   SELECT column1, column2, ...\n",
        "FROM table_name\n",
        "WHERE condition\n",
        "ORDER BY column1, column2, ...;\n",
        "*   Example:\n",
        "\n",
        "```\n",
        "SELECT * FROM employees\n",
        "ORDER BY age;\n",
        "```\n",
        "**ORDER BY DESC**: Sorts the results of a query based on one or more columns in descending order.\n",
        "\n",
        "*   SELECT column1, column2, ...\n",
        "FROM table_name\n",
        "WHERE condition\n",
        "ORDER BY column1 desc, column2 desc, ...;\n",
        "*   Example:\n",
        "\n",
        "```\n",
        "SELECT * FROM employees\n",
        "ORDER BY age desc;\n",
        "```"
      ],
      "metadata": {
        "id": "StolJ9DX4REN"
      }
    },
    {
      "cell_type": "code",
      "source": [
        "query = '''\n",
        "SELECT * FROM employees\n",
        "ORDER BY age,employee_id;\n",
        "'''\n",
        "pprint(query,conn)"
      ],
      "metadata": {
        "colab": {
          "base_uri": "https://localhost:8080/"
        },
        "outputId": "7a0295d5-9d5d-4c52-8030-0ab3baa1220c",
        "id": "pPqZuION4REt"
      },
      "execution_count": 22,
      "outputs": [
        {
          "output_type": "stream",
          "name": "stdout",
          "text": [
            "╒═══════════════╤══════════════╤═════════════╤═══════╤═════════════════╕\n",
            "│   employee_id │ first_name   │ last_name   │   age │   department_id │\n",
            "╞═══════════════╪══════════════╪═════════════╪═══════╪═════════════════╡\n",
            "│             2 │ Jane         │ Smith       │    25 │               2 │\n",
            "├───────────────┼──────────────┼─────────────┼───────┼─────────────────┤\n",
            "│             1 │ Ganesh       │ Doe         │    30 │               1 │\n",
            "├───────────────┼──────────────┼─────────────┼───────┼─────────────────┤\n",
            "│             3 │ Emily        │ Johnson     │    35 │               1 │\n",
            "├───────────────┼──────────────┼─────────────┼───────┼─────────────────┤\n",
            "│             4 │ Michael      │ Brown       │    40 │               3 │\n",
            "├───────────────┼──────────────┼─────────────┼───────┼─────────────────┤\n",
            "│             5 │ Ash          │ Ketchup     │    40 │               4 │\n",
            "╘═══════════════╧══════════════╧═════════════╧═══════╧═════════════════╛\n"
          ]
        }
      ]
    },
    {
      "cell_type": "code",
      "source": [
        "# Activity - 4\n",
        "# Write a query to order by sales date in sales table.\n",
        "\n",
        "query = '''\n",
        "SELECT * FROM sales\n",
        "ORDER BY sale_date  desc;\n",
        "'''\n",
        "pprint(query,conn)\n",
        "\n",
        "\n"
      ],
      "metadata": {
        "id": "wCVdzFda4REu",
        "colab": {
          "base_uri": "https://localhost:8080/"
        },
        "outputId": "cc5cd715-e7ef-4234-c1fb-e1eb79d7be4a"
      },
      "execution_count": 23,
      "outputs": [
        {
          "output_type": "stream",
          "name": "stdout",
          "text": [
            "╒═══════════╤═══════════════╤══════════╤═════════════╕\n",
            "│   sale_id │   employee_id │   amount │ sale_date   │\n",
            "╞═══════════╪═══════════════╪══════════╪═════════════╡\n",
            "│         4 │             3 │     1200 │ 2023-01-07  │\n",
            "├───────────┼───────────────┼──────────┼─────────────┤\n",
            "│         3 │             1 │      700 │ 2023-01-05  │\n",
            "├───────────┼───────────────┼──────────┼─────────────┤\n",
            "│         2 │             2 │     1500 │ 2023-01-03  │\n",
            "├───────────┼───────────────┼──────────┼─────────────┤\n",
            "│         1 │             1 │      500 │ 2023-01-01  │\n",
            "╘═══════════╧═══════════════╧══════════╧═════════════╛\n"
          ]
        }
      ]
    },
    {
      "cell_type": "markdown",
      "source": [
        "# Recap and QnA!\n",
        "\n",
        "\n",
        "\n",
        "\n",
        "*   Doubts and Clarification\n",
        "*   Next Session - Aggregation (sum,count,min,max..etc)\n",
        "\n",
        "\n",
        "\n"
      ],
      "metadata": {
        "id": "cGSPExr95uD6"
      }
    },
    {
      "cell_type": "markdown",
      "source": [
        "# Homework\n",
        "\n",
        "## Tables -\n",
        "\n",
        "1.   books (book_id, title, author_id, publication_year, genre)\n",
        "2.   authors (author_id, name)\n",
        "3.   borrowers (borrower_id, name, membership_date)\n",
        "4.   loans (loan_id, book_id, borrower_id, loan_date, return_date)\n",
        "\n",
        "## How to run queries? -\n",
        "\n",
        "\n",
        "```\n",
        "query = '''your query'''\n",
        "pprint(query,conn)\n",
        "```"
      ],
      "metadata": {
        "id": "dApiVlKu6QD0"
      }
    },
    {
      "cell_type": "code",
      "source": [
        "cursor.executescript('''\n",
        "    DROP TABLE IF EXISTS books;\n",
        "    DROP TABLE IF EXISTS authors;\n",
        "    DROP TABLE IF EXISTS borrowers;\n",
        "    DROP TABLE IF EXISTS loans;\n",
        "\n",
        "    CREATE TABLE books (\n",
        "        book_id INTEGER PRIMARY KEY,\n",
        "        title TEXT NOT NULL,\n",
        "        author_id INTEGER,\n",
        "        publication_year INTEGER,\n",
        "        genre TEXT,\n",
        "        FOREIGN KEY (author_id) REFERENCES authors(author_id)\n",
        "    );\n",
        "\n",
        "    CREATE TABLE authors (\n",
        "        author_id INTEGER PRIMARY KEY,\n",
        "        name TEXT NOT NULL\n",
        "    );\n",
        "\n",
        "    CREATE TABLE borrowers (\n",
        "        borrower_id INTEGER PRIMARY KEY,\n",
        "        name TEXT NOT NULL,\n",
        "        membership_date TEXT\n",
        "    );\n",
        "\n",
        "    CREATE TABLE loans (\n",
        "        loan_id INTEGER PRIMARY KEY,\n",
        "        book_id INTEGER,\n",
        "        borrower_id INTEGER,\n",
        "        loan_date TEXT,\n",
        "        return_date TEXT,\n",
        "        FOREIGN KEY(book_id) REFERENCES books(book_id),\n",
        "        FOREIGN KEY(borrower_id) REFERENCES borrowers(borrower_id)\n",
        "    );\n",
        "\n",
        "    INSERT INTO authors (name)\n",
        "    VALUES\n",
        "    ('George Orwell'),\n",
        "    ('J.K. Rowling'),\n",
        "    ('J.R.R. Tolkien');\n",
        "\n",
        "    INSERT INTO books (title, author_id, publication_year, genre)\n",
        "    VALUES\n",
        "    ('1984', 1, 1949, 'Dystopian'),\n",
        "    ('Animal Farm', 1, 1945, 'Political Satire'),\n",
        "    ('Harry Potter and the Sorcerers Stone', 2, 1997, 'Fantasy'),\n",
        "    ('The Hobbit', 3, 1937, 'Fantasy');\n",
        "\n",
        "    INSERT INTO borrowers (name, membership_date)\n",
        "    VALUES\n",
        "    ('Alice Smith', '2022-01-15'),\n",
        "    ('Bob Johnson', '2021-06-22'),\n",
        "    ('Carol White', '2023-02-10');\n",
        "\n",
        "    INSERT INTO loans (book_id, borrower_id, loan_date, return_date)\n",
        "    VALUES\n",
        "    (1, 1, '2024-07-01', '2024-07-15'),\n",
        "    (3, 2, '2024-07-05', '2024-07-20'),\n",
        "    (4, 3, '2024-07-10', NULL);\n",
        "''')\n",
        "\n",
        "# Commit changes\n",
        "conn.commit()\n",
        "\n",
        "print(\"Library database created successfully!\")\n"
      ],
      "metadata": {
        "colab": {
          "base_uri": "https://localhost:8080/"
        },
        "id": "ll9Lj3c46UKT",
        "outputId": "d80dec3c-00d0-47f1-d3ee-cd6c24637f04"
      },
      "execution_count": 24,
      "outputs": [
        {
          "output_type": "stream",
          "name": "stdout",
          "text": [
            "Library database created successfully!\n"
          ]
        }
      ]
    },
    {
      "cell_type": "markdown",
      "source": [
        "#Questions"
      ],
      "metadata": {
        "id": "rmhU6Tny-Ty8"
      }
    },
    {
      "cell_type": "code",
      "source": [
        "#1. Write a SQL query to select all columns from the books table."
      ],
      "metadata": {
        "id": "6rf7RMQf91DW"
      },
      "execution_count": 25,
      "outputs": []
    },
    {
      "cell_type": "code",
      "source": [
        "#2. Write a SQL query to select the title and genre columns from the books table."
      ],
      "metadata": {
        "id": "-ghB2Y6J-D0o"
      },
      "execution_count": 26,
      "outputs": []
    },
    {
      "cell_type": "code",
      "source": [
        "#3. Write a SQL query to select all books where the genre is \"Fantasy\"."
      ],
      "metadata": {
        "id": "aIFsHcb6-IJd"
      },
      "execution_count": 27,
      "outputs": []
    },
    {
      "cell_type": "code",
      "source": [
        "#4. Write a SQL query to select all loans where the loan_date is in July 2024."
      ],
      "metadata": {
        "id": "fgWnAEXF-LoF"
      },
      "execution_count": 28,
      "outputs": []
    },
    {
      "cell_type": "code",
      "source": [
        "#5. Write a SQL query to join the books and authors tables on author_id and select the title and name of the authors."
      ],
      "metadata": {
        "id": "w87AO4t1-di4"
      },
      "execution_count": 29,
      "outputs": []
    },
    {
      "cell_type": "code",
      "source": [
        "#6. Write a SQL query to select all books and sort them by publication_year in descending order."
      ],
      "metadata": {
        "id": "Sg6BzLIl-g7i"
      },
      "execution_count": 30,
      "outputs": []
    },
    {
      "cell_type": "code",
      "source": [
        "#7. Write a SQL query to count the number of loans for each book."
      ],
      "metadata": {
        "id": "vrNPvOXC-kw7"
      },
      "execution_count": 31,
      "outputs": []
    }
  ]
}